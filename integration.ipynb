{
 "cells": [
  {
   "cell_type": "code",
   "execution_count": 1,
   "id": "058a28c0",
   "metadata": {},
   "outputs": [],
   "source": [
    "import requests\n",
    "\n",
    "import pandas as pd\n",
    "import sqlite3\n",
    "\n",
    "from tqdm import tqdm"
   ]
  },
  {
   "cell_type": "code",
   "execution_count": 2,
   "id": "c6cd4939",
   "metadata": {},
   "outputs": [],
   "source": [
    "reqRegiones = requests.get(\"https://api-colombia.com/api/v1/Region\").json()\n"
   ]
  },
  {
   "cell_type": "code",
   "execution_count": 3,
   "id": "a3ba171a",
   "metadata": {},
   "outputs": [],
   "source": [
    "regiones = [{k: v for k, v in ele.items() if k != \"departments\"} for ele in reqRegiones]\n",
    "dfRegiones = pd.DataFrame(regiones)"
   ]
  },
  {
   "cell_type": "code",
   "execution_count": 4,
   "id": "b3053ae0",
   "metadata": {},
   "outputs": [
    {
     "name": "stderr",
     "output_type": "stream",
     "text": [
      "100%|██████████| 6/6 [00:05<00:00,  1.04it/s]\n"
     ]
    }
   ],
   "source": [
    "reqDepartaments = [requests.get(f\"https://api-colombia.com/api/v1/Region/{region}/departments\").json() for region in tqdm(range(1, 7))]"
   ]
  },
  {
   "cell_type": "code",
   "execution_count": 5,
   "id": "d3e9eafc",
   "metadata": {},
   "outputs": [
    {
     "name": "stderr",
     "output_type": "stream",
     "text": [
      "100%|██████████| 6/6 [00:00<00:00, 754.69it/s]\n"
     ]
    }
   ],
   "source": [
    "dfsDeparments = []\n",
    "\n",
    "for region in tqdm(reqDepartaments):\n",
    "    deparment = [{k: v for k, v in ele.items() if v!= None and not isinstance(v, dict)} for ele in region]\n",
    "    dfsDeparments.append(pd.DataFrame(deparment))"
   ]
  },
  {
   "cell_type": "code",
   "execution_count": 6,
   "id": "bd5a6312",
   "metadata": {},
   "outputs": [],
   "source": [
    "dfDeparments = pd.concat(dfsDeparments)\n",
    "total_Region_Dep = dfDeparments['regionId'].nunique()\n",
    "if total_Region_Dep != 6:\n",
    "    raise Exception(\"The total of regions are 6\")"
   ]
  },
  {
   "cell_type": "code",
   "execution_count": 7,
   "id": "386021f1",
   "metadata": {},
   "outputs": [
    {
     "data": {
      "text/plain": [
       "6"
      ]
     },
     "execution_count": 7,
     "metadata": {},
     "output_type": "execute_result"
    }
   ],
   "source": [
    "conn = sqlite3.connect('applications.db')\n",
    "cursor = conn.cursor()\n",
    "cursor.execute('DROP TABLE IF EXISTS Departmnets')\n",
    "cursor.execute('DROP TABLE IF EXISTS Regions')\n",
    "dfDeparments.to_sql('Departmnets', conn, if_exists='replace', index=False)\n",
    "dfRegiones.to_sql('Regions', conn, if_exists='replace', index=False)"
   ]
  }
 ],
 "metadata": {
  "kernelspec": {
   "display_name": "Python 3",
   "language": "python",
   "name": "python3"
  },
  "language_info": {
   "codemirror_mode": {
    "name": "ipython",
    "version": 3
   },
   "file_extension": ".py",
   "mimetype": "text/x-python",
   "name": "python",
   "nbconvert_exporter": "python",
   "pygments_lexer": "ipython3",
   "version": "3.12.0"
  }
 },
 "nbformat": 4,
 "nbformat_minor": 5
}

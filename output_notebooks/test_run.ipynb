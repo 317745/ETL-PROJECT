{
 "cells": [
  {
   "cell_type": "code",
   "execution_count": 1,
   "id": "058a28c0",
   "metadata": {
    "execution": {
     "iopub.execute_input": "2025-10-22T05:46:41.060063Z",
     "iopub.status.busy": "2025-10-22T05:46:41.059836Z",
     "iopub.status.idle": "2025-10-22T05:46:41.519380Z",
     "shell.execute_reply": "2025-10-22T05:46:41.518208Z"
    },
    "papermill": {
     "duration": 0.473858,
     "end_time": "2025-10-22T05:46:41.520302",
     "exception": false,
     "start_time": "2025-10-22T05:46:41.046444",
     "status": "completed"
    },
    "tags": []
   },
   "outputs": [],
   "source": [
    "import requests\n",
    "\n",
    "import pandas as pd\n",
    "import sqlite3\n",
    "\n",
    "from tqdm import tqdm"
   ]
  },
  {
   "cell_type": "code",
   "execution_count": 2,
   "id": "c6cd4939",
   "metadata": {
    "execution": {
     "iopub.execute_input": "2025-10-22T05:46:41.563013Z",
     "iopub.status.busy": "2025-10-22T05:46:41.562398Z",
     "iopub.status.idle": "2025-10-22T05:46:42.488477Z",
     "shell.execute_reply": "2025-10-22T05:46:42.486808Z"
    },
    "papermill": {
     "duration": 0.961592,
     "end_time": "2025-10-22T05:46:42.489720",
     "exception": false,
     "start_time": "2025-10-22T05:46:41.528128",
     "status": "completed"
    },
    "tags": []
   },
   "outputs": [],
   "source": [
    "reqRegiones = requests.get(\"https://api-colombia.com/api/v1/Region\").json()\n"
   ]
  },
  {
   "cell_type": "code",
   "execution_count": 3,
   "id": "a3ba171a",
   "metadata": {
    "execution": {
     "iopub.execute_input": "2025-10-22T05:46:42.535243Z",
     "iopub.status.busy": "2025-10-22T05:46:42.533971Z",
     "iopub.status.idle": "2025-10-22T05:46:42.542350Z",
     "shell.execute_reply": "2025-10-22T05:46:42.539938Z"
    },
    "papermill": {
     "duration": 0.045273,
     "end_time": "2025-10-22T05:46:42.543336",
     "exception": false,
     "start_time": "2025-10-22T05:46:42.498063",
     "status": "completed"
    },
    "tags": []
   },
   "outputs": [],
   "source": [
    "regiones = [{k: v for k, v in ele.items() if k != \"departments\"} for ele in reqRegiones]\n",
    "dfRegiones = pd.DataFrame(regiones)"
   ]
  },
  {
   "cell_type": "code",
   "execution_count": 4,
   "id": "b3053ae0",
   "metadata": {
    "execution": {
     "iopub.execute_input": "2025-10-22T05:46:42.595270Z",
     "iopub.status.busy": "2025-10-22T05:46:42.595054Z",
     "iopub.status.idle": "2025-10-22T05:46:45.732279Z",
     "shell.execute_reply": "2025-10-22T05:46:45.731093Z"
    },
    "papermill": {
     "duration": 3.171323,
     "end_time": "2025-10-22T05:46:45.732962",
     "exception": false,
     "start_time": "2025-10-22T05:46:42.561639",
     "status": "completed"
    },
    "tags": []
   },
   "outputs": [
    {
     "name": "stderr",
     "output_type": "stream",
     "text": [
      "\r",
      "  0%|                                                                                                                                                  | 0/6 [00:00<?, ?it/s]"
     ]
    },
    {
     "name": "stderr",
     "output_type": "stream",
     "text": [
      "\r",
      " 17%|███████████████████████                                                                                                                   | 1/6 [00:00<00:03,  1.41it/s]"
     ]
    },
    {
     "name": "stderr",
     "output_type": "stream",
     "text": [
      "\r",
      " 33%|██████████████████████████████████████████████                                                                                            | 2/6 [00:01<00:02,  1.75it/s]"
     ]
    },
    {
     "name": "stderr",
     "output_type": "stream",
     "text": [
      "\r",
      " 50%|█████████████████████████████████████████████████████████████████████                                                                     | 3/6 [00:01<00:01,  1.92it/s]"
     ]
    },
    {
     "name": "stderr",
     "output_type": "stream",
     "text": [
      "\r",
      " 67%|████████████████████████████████████████████████████████████████████████████████████████████                                              | 4/6 [00:02<00:01,  1.92it/s]"
     ]
    },
    {
     "name": "stderr",
     "output_type": "stream",
     "text": [
      "\r",
      " 83%|███████████████████████████████████████████████████████████████████████████████████████████████████████████████████                       | 5/6 [00:02<00:00,  1.97it/s]"
     ]
    },
    {
     "name": "stderr",
     "output_type": "stream",
     "text": [
      "\r",
      "100%|██████████████████████████████████████████████████████████████████████████████████████████████████████████████████████████████████████████| 6/6 [00:03<00:00,  2.03it/s]"
     ]
    },
    {
     "name": "stderr",
     "output_type": "stream",
     "text": [
      "\r",
      "100%|██████████████████████████████████████████████████████████████████████████████████████████████████████████████████████████████████████████| 6/6 [00:03<00:00,  1.93it/s]"
     ]
    },
    {
     "name": "stderr",
     "output_type": "stream",
     "text": [
      "\n"
     ]
    }
   ],
   "source": [
    "reqDepartaments = [requests.get(f\"https://api-colombia.com/api/v1/Region/{region}/departments\").json() for region in tqdm(range(1, 7))]"
   ]
  },
  {
   "cell_type": "code",
   "execution_count": 5,
   "id": "d3e9eafc",
   "metadata": {
    "execution": {
     "iopub.execute_input": "2025-10-22T05:46:45.769396Z",
     "iopub.status.busy": "2025-10-22T05:46:45.769161Z",
     "iopub.status.idle": "2025-10-22T05:46:45.782783Z",
     "shell.execute_reply": "2025-10-22T05:46:45.781912Z"
    },
    "papermill": {
     "duration": 0.041131,
     "end_time": "2025-10-22T05:46:45.783465",
     "exception": false,
     "start_time": "2025-10-22T05:46:45.742334",
     "status": "completed"
    },
    "tags": []
   },
   "outputs": [
    {
     "name": "stderr",
     "output_type": "stream",
     "text": [
      "\r",
      "  0%|                                                                                                                                                  | 0/6 [00:00<?, ?it/s]"
     ]
    },
    {
     "name": "stderr",
     "output_type": "stream",
     "text": [
      "\r",
      "100%|████████████████████████████████████████████████████████████████████████████████████████████████████████████████████████████████████████| 6/6 [00:00<00:00, 2464.82it/s]"
     ]
    },
    {
     "name": "stderr",
     "output_type": "stream",
     "text": [
      "\n"
     ]
    }
   ],
   "source": [
    "dfsDeparments = []\n",
    "\n",
    "for region in tqdm(reqDepartaments):\n",
    "    deparment = [{k: v for k, v in ele.items() if v!= None and not isinstance(v, dict)} for ele in region]\n",
    "    dfsDeparments.append(pd.DataFrame(deparment))"
   ]
  },
  {
   "cell_type": "code",
   "execution_count": 6,
   "id": "bd5a6312",
   "metadata": {
    "execution": {
     "iopub.execute_input": "2025-10-22T05:46:45.834036Z",
     "iopub.status.busy": "2025-10-22T05:46:45.833737Z",
     "iopub.status.idle": "2025-10-22T05:46:45.844608Z",
     "shell.execute_reply": "2025-10-22T05:46:45.840989Z"
    },
    "papermill": {
     "duration": 0.048746,
     "end_time": "2025-10-22T05:46:45.845805",
     "exception": false,
     "start_time": "2025-10-22T05:46:45.797059",
     "status": "completed"
    },
    "tags": []
   },
   "outputs": [],
   "source": [
    "dfDeparments = pd.concat(dfsDeparments)\n",
    "total_Region_Dep = dfDeparments['regionId'].nunique()\n",
    "if total_Region_Dep != 6:\n",
    "    raise Exception(\"The total of regions are 6\")"
   ]
  },
  {
   "cell_type": "code",
   "execution_count": 7,
   "id": "386021f1",
   "metadata": {
    "execution": {
     "iopub.execute_input": "2025-10-22T05:46:45.889685Z",
     "iopub.status.busy": "2025-10-22T05:46:45.889422Z",
     "iopub.status.idle": "2025-10-22T05:46:46.040449Z",
     "shell.execute_reply": "2025-10-22T05:46:46.039348Z"
    },
    "papermill": {
     "duration": 0.177896,
     "end_time": "2025-10-22T05:46:46.041132",
     "exception": false,
     "start_time": "2025-10-22T05:46:45.863236",
     "status": "completed"
    },
    "tags": []
   },
   "outputs": [
    {
     "data": {
      "text/plain": [
       "6"
      ]
     },
     "execution_count": 7,
     "metadata": {},
     "output_type": "execute_result"
    }
   ],
   "source": [
    "conn = sqlite3.connect('applications.db')\n",
    "cursor = conn.cursor()\n",
    "cursor.execute('DROP TABLE IF EXISTS Departmnets')\n",
    "cursor.execute('DROP TABLE IF EXISTS Regions')\n",
    "dfDeparments.to_sql('Departmnets', conn, if_exists='replace', index=False)\n",
    "dfRegiones.to_sql('Regions', conn, if_exists='replace', index=False)"
   ]
  }
 ],
 "metadata": {
  "kernelspec": {
   "display_name": ".venvEtl",
   "language": "python",
   "name": "python3"
  },
  "language_info": {
   "codemirror_mode": {
    "name": "ipython",
    "version": 3
   },
   "file_extension": ".py",
   "mimetype": "text/x-python",
   "name": "python",
   "nbconvert_exporter": "python",
   "pygments_lexer": "ipython3",
   "version": "3.12.6"
  },
  "papermill": {
   "default_parameters": {},
   "duration": 7.249929,
   "end_time": "2025-10-22T05:46:46.382409",
   "environment_variables": {},
   "exception": null,
   "input_path": "integration.ipynb",
   "output_path": "output_notebooks/test_run.ipynb",
   "parameters": {},
   "start_time": "2025-10-22T05:46:39.132480",
   "version": "2.6.0"
  }
 },
 "nbformat": 4,
 "nbformat_minor": 5
}
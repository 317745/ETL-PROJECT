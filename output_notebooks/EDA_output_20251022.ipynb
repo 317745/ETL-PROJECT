{
 "cells": [
  {
   "cell_type": "code",
   "execution_count": 1,
   "id": "058a28c0",
   "metadata": {
    "execution": {
     "iopub.execute_input": "2025-10-22T05:53:03.504207Z",
     "iopub.status.busy": "2025-10-22T05:53:03.503944Z",
     "iopub.status.idle": "2025-10-22T05:53:04.009330Z",
     "shell.execute_reply": "2025-10-22T05:53:04.007448Z"
    },
    "papermill": {
     "duration": 0.520992,
     "end_time": "2025-10-22T05:53:04.010613",
     "exception": false,
     "start_time": "2025-10-22T05:53:03.489621",
     "status": "completed"
    },
    "tags": []
   },
   "outputs": [],
   "source": [
    "import requests\n",
    "\n",
    "import pandas as pd\n",
    "import sqlite3\n",
    "\n",
    "from tqdm import tqdm"
   ]
  },
  {
   "cell_type": "code",
   "execution_count": 2,
   "id": "c6cd4939",
   "metadata": {
    "execution": {
     "iopub.execute_input": "2025-10-22T05:53:04.050090Z",
     "iopub.status.busy": "2025-10-22T05:53:04.049763Z",
     "iopub.status.idle": "2025-10-22T05:53:04.721449Z",
     "shell.execute_reply": "2025-10-22T05:53:04.720276Z"
    },
    "papermill": {
     "duration": 0.702677,
     "end_time": "2025-10-22T05:53:04.722212",
     "exception": false,
     "start_time": "2025-10-22T05:53:04.019535",
     "status": "completed"
    },
    "tags": []
   },
   "outputs": [],
   "source": [
    "reqRegiones = requests.get(\"https://api-colombia.com/api/v1/Region\").json()\n"
   ]
  },
  {
   "cell_type": "code",
   "execution_count": 3,
   "id": "a3ba171a",
   "metadata": {
    "execution": {
     "iopub.execute_input": "2025-10-22T05:53:04.768881Z",
     "iopub.status.busy": "2025-10-22T05:53:04.768624Z",
     "iopub.status.idle": "2025-10-22T05:53:04.773118Z",
     "shell.execute_reply": "2025-10-22T05:53:04.772226Z"
    },
    "papermill": {
     "duration": 0.045097,
     "end_time": "2025-10-22T05:53:04.774242",
     "exception": false,
     "start_time": "2025-10-22T05:53:04.729145",
     "status": "completed"
    },
    "tags": []
   },
   "outputs": [],
   "source": [
    "regiones = [{k: v for k, v in ele.items() if k != \"departments\"} for ele in reqRegiones]\n",
    "dfRegiones = pd.DataFrame(regiones)"
   ]
  },
  {
   "cell_type": "code",
   "execution_count": 4,
   "id": "b3053ae0",
   "metadata": {
    "execution": {
     "iopub.execute_input": "2025-10-22T05:53:04.833371Z",
     "iopub.status.busy": "2025-10-22T05:53:04.833151Z",
     "iopub.status.idle": "2025-10-22T05:53:06.930813Z",
     "shell.execute_reply": "2025-10-22T05:53:06.926977Z"
    },
    "papermill": {
     "duration": 2.136924,
     "end_time": "2025-10-22T05:53:06.932565",
     "exception": false,
     "start_time": "2025-10-22T05:53:04.795641",
     "status": "completed"
    },
    "tags": []
   },
   "outputs": [
    {
     "name": "stderr",
     "output_type": "stream",
     "text": [
      "\r",
      "  0%|          | 0/6 [00:00<?, ?it/s]"
     ]
    },
    {
     "name": "stderr",
     "output_type": "stream",
     "text": [
      "\r",
      " 33%|███▎      | 2/6 [00:00<00:00, 15.13it/s]"
     ]
    },
    {
     "name": "stderr",
     "output_type": "stream",
     "text": [
      "\r",
      " 67%|██████▋   | 4/6 [00:01<00:00,  3.10it/s]"
     ]
    },
    {
     "name": "stderr",
     "output_type": "stream",
     "text": [
      "\r",
      " 83%|████████▎ | 5/6 [00:01<00:00,  2.74it/s]"
     ]
    },
    {
     "name": "stderr",
     "output_type": "stream",
     "text": [
      "\r",
      "100%|██████████| 6/6 [00:02<00:00,  2.54it/s]"
     ]
    },
    {
     "name": "stderr",
     "output_type": "stream",
     "text": [
      "\r",
      "100%|██████████| 6/6 [00:02<00:00,  2.91it/s]"
     ]
    },
    {
     "name": "stderr",
     "output_type": "stream",
     "text": [
      "\n"
     ]
    }
   ],
   "source": [
    "reqDepartaments = [requests.get(f\"https://api-colombia.com/api/v1/Region/{region}/departments\").json() for region in tqdm(range(1, 7))]"
   ]
  },
  {
   "cell_type": "code",
   "execution_count": 5,
   "id": "d3e9eafc",
   "metadata": {
    "execution": {
     "iopub.execute_input": "2025-10-22T05:53:06.985587Z",
     "iopub.status.busy": "2025-10-22T05:53:06.985193Z",
     "iopub.status.idle": "2025-10-22T05:53:06.999550Z",
     "shell.execute_reply": "2025-10-22T05:53:06.995814Z"
    },
    "papermill": {
     "duration": 0.056937,
     "end_time": "2025-10-22T05:53:07.000566",
     "exception": false,
     "start_time": "2025-10-22T05:53:06.943629",
     "status": "completed"
    },
    "tags": []
   },
   "outputs": [
    {
     "name": "stderr",
     "output_type": "stream",
     "text": [
      "\r",
      "  0%|          | 0/6 [00:00<?, ?it/s]"
     ]
    },
    {
     "name": "stderr",
     "output_type": "stream",
     "text": [
      "\r",
      "100%|██████████| 6/6 [00:00<00:00, 2053.18it/s]"
     ]
    },
    {
     "name": "stderr",
     "output_type": "stream",
     "text": [
      "\n"
     ]
    }
   ],
   "source": [
    "dfsDeparments = []\n",
    "\n",
    "for region in tqdm(reqDepartaments):\n",
    "    deparment = [{k: v for k, v in ele.items() if v!= None and not isinstance(v, dict)} for ele in region]\n",
    "    dfsDeparments.append(pd.DataFrame(deparment))"
   ]
  },
  {
   "cell_type": "code",
   "execution_count": 6,
   "id": "bd5a6312",
   "metadata": {
    "execution": {
     "iopub.execute_input": "2025-10-22T05:53:07.052862Z",
     "iopub.status.busy": "2025-10-22T05:53:07.052457Z",
     "iopub.status.idle": "2025-10-22T05:53:07.059232Z",
     "shell.execute_reply": "2025-10-22T05:53:07.058060Z"
    },
    "papermill": {
     "duration": 0.047201,
     "end_time": "2025-10-22T05:53:07.059996",
     "exception": false,
     "start_time": "2025-10-22T05:53:07.012795",
     "status": "completed"
    },
    "tags": []
   },
   "outputs": [],
   "source": [
    "dfDeparments = pd.concat(dfsDeparments)\n",
    "total_Region_Dep = dfDeparments['regionId'].nunique()\n",
    "if total_Region_Dep != 6:\n",
    "    raise Exception(\"The total of regions are 6\")"
   ]
  },
  {
   "cell_type": "code",
   "execution_count": 7,
   "id": "386021f1",
   "metadata": {
    "execution": {
     "iopub.execute_input": "2025-10-22T05:53:07.115407Z",
     "iopub.status.busy": "2025-10-22T05:53:07.115149Z",
     "iopub.status.idle": "2025-10-22T05:53:07.350492Z",
     "shell.execute_reply": "2025-10-22T05:53:07.349314Z"
    },
    "papermill": {
     "duration": 0.27071,
     "end_time": "2025-10-22T05:53:07.351749",
     "exception": false,
     "start_time": "2025-10-22T05:53:07.081039",
     "status": "completed"
    },
    "tags": []
   },
   "outputs": [
    {
     "data": {
      "text/plain": [
       "6"
      ]
     },
     "execution_count": 7,
     "metadata": {},
     "output_type": "execute_result"
    }
   ],
   "source": [
    "conn = sqlite3.connect('applications.db')\n",
    "cursor = conn.cursor()\n",
    "cursor.execute('DROP TABLE IF EXISTS Departmnets')\n",
    "cursor.execute('DROP TABLE IF EXISTS Regions')\n",
    "dfDeparments.to_sql('Departmnets', conn, if_exists='replace', index=False)\n",
    "dfRegiones.to_sql('Regions', conn, if_exists='replace', index=False)"
   ]
  }
 ],
 "metadata": {
  "kernelspec": {
   "display_name": ".venvEtl",
   "language": "python",
   "name": "python3"
  },
  "language_info": {
   "codemirror_mode": {
    "name": "ipython",
    "version": 3
   },
   "file_extension": ".py",
   "mimetype": "text/x-python",
   "name": "python",
   "nbconvert_exporter": "python",
   "pygments_lexer": "ipython3",
   "version": "3.12.6"
  },
  "papermill": {
   "default_parameters": {},
   "duration": 6.117789,
   "end_time": "2025-10-22T05:53:07.690615",
   "environment_variables": {},
   "exception": null,
   "input_path": "integration.ipynb",
   "output_path": "output_notebooks/EDA_output_20251022.ipynb",
   "parameters": {},
   "start_time": "2025-10-22T05:53:01.572826",
   "version": "2.6.0"
  }
 },
 "nbformat": 4,
 "nbformat_minor": 5
}
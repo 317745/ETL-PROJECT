{
 "cells": [
  {
   "cell_type": "code",
   "execution_count": null,
   "id": "058a28c0",
   "metadata": {
    "papermill": {
     "duration": null,
     "end_time": null,
     "exception": null,
     "start_time": null,
     "status": "completed"
    },
    "tags": []
   },
   "outputs": [],
   "source": [
    "import requests\n",
    "\n",
    "import pandas as pd\n",
    "import sqlite3\n",
    "\n",
    "from tqdm import tqdm"
   ]
  },
  {
   "cell_type": "code",
   "execution_count": null,
   "id": "c6cd4939",
   "metadata": {
    "papermill": {
     "duration": null,
     "end_time": null,
     "exception": null,
     "start_time": null,
     "status": "completed"
    },
    "tags": []
   },
   "outputs": [],
   "source": [
    "reqRegiones = requests.get(\"https://api-colombia.com/api/v1/Region\").json()\n"
   ]
  },
  {
   "cell_type": "code",
   "execution_count": null,
   "id": "a3ba171a",
   "metadata": {
    "papermill": {
     "duration": null,
     "end_time": null,
     "exception": null,
     "start_time": null,
     "status": "completed"
    },
    "tags": []
   },
   "outputs": [],
   "source": [
    "regiones = [{k: v for k, v in ele.items() if k != \"departments\"} for ele in reqRegiones]\n",
    "dfRegiones = pd.DataFrame(regiones)"
   ]
  },
  {
   "cell_type": "code",
   "execution_count": null,
   "id": "b3053ae0",
   "metadata": {
    "papermill": {
     "duration": null,
     "end_time": null,
     "exception": null,
     "start_time": null,
     "status": "completed"
    },
    "tags": []
   },
   "outputs": [],
   "source": [
    "reqDepartaments = [requests.get(f\"https://api-colombia.com/api/v1/Region/{region}/departments\").json() for region in tqdm(range(1, 7))]"
   ]
  },
  {
   "cell_type": "code",
   "execution_count": null,
   "id": "d3e9eafc",
   "metadata": {
    "papermill": {
     "duration": null,
     "end_time": null,
     "exception": null,
     "start_time": null,
     "status": "completed"
    },
    "tags": []
   },
   "outputs": [],
   "source": [
    "dfsDeparments = []\n",
    "\n",
    "for region in tqdm(reqDepartaments):\n",
    "    deparment = [{k: v for k, v in ele.items() if v!= None and not isinstance(v, dict)} for ele in region]\n",
    "    dfsDeparments.append(pd.DataFrame(deparment))"
   ]
  },
  {
   "cell_type": "code",
   "execution_count": null,
   "id": "bd5a6312",
   "metadata": {
    "papermill": {
     "duration": null,
     "end_time": null,
     "exception": null,
     "start_time": null,
     "status": "completed"
    },
    "tags": []
   },
   "outputs": [],
   "source": [
    "dfDeparments = pd.concat(dfsDeparments)\n",
    "total_Region_Dep = dfDeparments['regionId'].nunique()\n",
    "if total_Region_Dep != 6:\n",
    "    raise Exception(\"The total of regions are 6\")"
   ]
  },
  {
   "cell_type": "code",
   "execution_count": null,
   "id": "386021f1",
   "metadata": {
    "papermill": {
     "duration": null,
     "end_time": null,
     "exception": null,
     "start_time": null,
     "status": "completed"
    },
    "tags": []
   },
   "outputs": [],
   "source": [
    "conn = sqlite3.connect('applications.db')\n",
    "cursor = conn.cursor()\n",
    "cursor.execute('DROP TABLE IF EXISTS Departmnets')\n",
    "cursor.execute('DROP TABLE IF EXISTS Regions')\n",
    "dfDeparments.to_sql('Departmnets', conn, if_exists='replace', index=False)\n",
    "dfRegiones.to_sql('Regions', conn, if_exists='replace', index=False)"
   ]
  }
 ],
 "metadata": {
  "kernelspec": {
   "display_name": ".venvEtl",
   "language": "python",
   "name": "python3"
  },
  "language_info": {
   "codemirror_mode": {
    "name": "ipython",
    "version": 3
   },
   "file_extension": ".py",
   "mimetype": "text/x-python",
   "name": "python",
   "nbconvert_exporter": "python",
   "pygments_lexer": "ipython3",
   "version": "3.12.3"
  },
  "papermill": {
   "default_parameters": {},
   "duration": 0.354193,
   "end_time": "2025-10-22T05:42:09.507123",
   "environment_variables": {},
   "exception": null,
   "input_path": "integration.ipynb",
   "output_path": "output_notebooks/EDA_output_test.ipynb",
   "parameters": {},
   "start_time": "2025-10-22T05:42:09.152930",
   "version": "2.6.0"
  }
 },
 "nbformat": 4,
 "nbformat_minor": 5
}